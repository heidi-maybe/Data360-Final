{
 "cells": [
  {
   "cell_type": "markdown",
   "id": "50797cab-0ce3-4b16-aef8-1f1433152f13",
   "metadata": {},
   "source": [
    "# Data 360 Final"
   ]
  },
  {
   "cell_type": "markdown",
   "id": "be42eade-0a82-42d5-8df0-a5e7968cfe9f",
   "metadata": {},
   "source": [
    "### Final web scraping code."
   ]
  },
  {
   "cell_type": "markdown",
   "id": "e94487fc-dc0f-4700-8b41-3aedfa8bfafd",
   "metadata": {},
   "source": [
    "Scraping data from IMDb's 100 most popular movies. Data scraped includes titles, release dates, watch time, MPAA rating, star rating, genres, and url to the movies page on IMDb."
   ]
  },
  {
   "cell_type": "code",
   "execution_count": 20,
   "id": "e0142bbc-a69d-4041-92b4-7d0a97902070",
   "metadata": {},
   "outputs": [],
   "source": [
    "import requests\n",
    "from selenium import webdriver\n",
    "from selenium.webdriver.common.by import By\n",
    "from selenium.webdriver.common.keys import Keys\n",
    "import time\n",
    "from bs4 import BeautifulSoup\n",
    "import pandas as pd\n",
    "\n",
    "\n",
    "driver = webdriver.Safari()\n",
    "driver.get(\"https://www.imdb.com/chart/moviemeter/?ref_=nv_mv_mpm\")\n",
    "\n",
    "\n",
    "last_height = driver.execute_script(\"return document.body.scrollHeight\")\n",
    "\n",
    "while True:\n",
    "    driver.find_element(By.TAG_NAME, \"body\").send_keys(Keys.END)\n",
    "    time.sleep(2)\n",
    "    new_height = driver.execute_script(\"return document.body.scrollHeight\")\n",
    "    if new_height == last_height:\n",
    "        break\n",
    "    last_height = new_height\n",
    "\n",
    "\n",
    "soup = BeautifulSoup(driver.page_source, \"html.parser\")\n",
    "driver.quit()\n",
    "\n",
    "results = soup.find('ul', class_='ipc-metadata-list ipc-metadata-list--dividers-between sc-e22973a9-0 khSCXM compact-list-view ipc-metadata-list--base')\n",
    "movie_elements = results.find_all('li', class_=\"ipc-metadata-list-summary-item\")"
   ]
  },
  {
   "cell_type": "code",
   "execution_count": null,
   "id": "4cbaf131-f5a9-46ac-a617-0d60ba023fb8",
   "metadata": {
    "scrolled": true
   },
   "outputs": [],
   "source": [
    "movie = []\n",
    "\n",
    "for movie_element in movie_elements:\n",
    "    genre = []\n",
    "    title_element = movie_element.find(\"h3\").text.strip()\n",
    "    \n",
    "    descr_elements = movie_element.find_all(\"span\", class_=\"sc-4b408797-8 iurwGb cli-title-metadata-item\")\n",
    "    star_element = movie_element.find(\"span\", class_=\"ipc-rating-star--rating\")\n",
    "    star_element = star_element.text.strip() if star_element else None\n",
    "    link_element = movie_element.find(\"a\")[\"href\"]\n",
    "    movie_url = \"https://www.imdb.com\" + link_element\n",
    "\n",
    "    release_element = descr_elements[0].text.strip() if len(descr_elements) > 0 else None\n",
    "    time_element = descr_elements[1].text.strip() if len(descr_elements) > 1 else None\n",
    "    movie_element = descr_elements[2].text.strip() if len(descr_elements) > 2 else None\n",
    "\n",
    "    try:\n",
    "        headers = {\"User-Agent\": \"Mozilla/5.0 (Windows NT 10.0; Win64; x64) AppleWebKit/537.36 (KHTML, like Gecko) Chrome/129.0.0.0 Safari/537.36\",}\n",
    "        movie_page = requests.get(movie_url, headers=headers)\n",
    "        movie_soup = BeautifulSoup(movie_page.content, \"html.parser\")\n",
    "\n",
    "    \n",
    "        genre_elements = movie_soup.find_all('a', class_=\"ipc-chip ipc-chip--on-baseAlt\")\n",
    "        for genre_element in genre_elements:\n",
    "            genre_name = genre_element.find('span', class_=\"ipc-chip__text\").text.strip()\n",
    "\n",
    "            genre.append(genre_name)\n",
    "\n",
    "    except:\n",
    "        genre.append(None)\n",
    "     \n",
    "    movie.append([title_element, release_element, time_element, movie_element, star_element, genre, movie_url])\n",
    "movie"
   ]
  },
  {
   "cell_type": "code",
   "execution_count": null,
   "id": "a605df0f-5b9f-46d5-96d6-aca026726955",
   "metadata": {
    "scrolled": true
   },
   "outputs": [],
   "source": [
    "imdb_ranking = pd.DataFrame(movie, columns=[\"Title\", \"Release Date\", \"Run Time\", \"MPAA Film Rating\", \"Rating\", \"Genres\", \"Webpage\"])\n",
    "imdb_ranking"
   ]
  },
  {
   "cell_type": "code",
   "execution_count": null,
   "id": "1f84cec1-0c4d-47d1-83f0-125e9506648e",
   "metadata": {},
   "outputs": [],
   "source": [
    "imdb_ranking_exploded = imdb_ranking.explode('Genres')\n",
    "imdb_ranking_exploded"
   ]
  },
  {
   "cell_type": "code",
   "execution_count": null,
   "id": "cadfe58f-67c1-4f91-818f-423992687d43",
   "metadata": {},
   "outputs": [],
   "source": [
    "imdb_ranking.to_csv('imdb_ranking.csv', index=False)"
   ]
  },
  {
   "cell_type": "code",
   "execution_count": null,
   "id": "7ce73583-31c3-4dbc-93f7-876ea6fdcd24",
   "metadata": {},
   "outputs": [],
   "source": [
    "imdb_ranking_exploded.to_csv('imdb_ranking_genres.csv', index=False)"
   ]
  }
 ],
 "metadata": {
  "kernelspec": {
   "display_name": "Python 3 (ipykernel)",
   "language": "python",
   "name": "python3"
  },
  "language_info": {
   "codemirror_mode": {
    "name": "ipython",
    "version": 3
   },
   "file_extension": ".py",
   "mimetype": "text/x-python",
   "name": "python",
   "nbconvert_exporter": "python",
   "pygments_lexer": "ipython3",
   "version": "3.12.9"
  }
 },
 "nbformat": 4,
 "nbformat_minor": 5
}
